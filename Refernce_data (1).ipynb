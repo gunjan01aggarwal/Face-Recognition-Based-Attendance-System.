{
 "cells": [
  {
   "cell_type": "code",
   "execution_count": 1,
   "metadata": {},
   "outputs": [
    {
     "name": "stdout",
     "output_type": "stream",
     "text": [
      "pygame 2.0.1 (SDL 2.0.14, Python 3.7.4)\n",
      "Hello from the pygame community. https://www.pygame.org/contribute.html\n"
     ]
    }
   ],
   "source": [
    "import cv2\n",
    "import face_recognition\n",
    "from PIL import Image,ImageDraw,ImageFont\n",
    "import pandas as pd\n",
    "import matplotlib.pyplot as plt\n",
    "import pygame\n",
    "import sys\n",
    "import datetime"
   ]
  },
  {
   "cell_type": "code",
   "execution_count": 2,
   "metadata": {},
   "outputs": [
    {
     "data": {
      "text/html": [
       "<div>\n",
       "<style scoped>\n",
       "    .dataframe tbody tr th:only-of-type {\n",
       "        vertical-align: middle;\n",
       "    }\n",
       "\n",
       "    .dataframe tbody tr th {\n",
       "        vertical-align: top;\n",
       "    }\n",
       "\n",
       "    .dataframe thead th {\n",
       "        text-align: right;\n",
       "    }\n",
       "</style>\n",
       "<table border=\"1\" class=\"dataframe\">\n",
       "  <thead>\n",
       "    <tr style=\"text-align: right;\">\n",
       "      <th></th>\n",
       "      <th>Employee_No</th>\n",
       "      <th>F_name</th>\n",
       "      <th>L_name</th>\n",
       "      <th>Photo_location</th>\n",
       "      <th>Audio_location</th>\n",
       "    </tr>\n",
       "  </thead>\n",
       "  <tbody>\n",
       "    <tr>\n",
       "      <th>0</th>\n",
       "      <td>2822</td>\n",
       "      <td>Aishwarya</td>\n",
       "      <td>Rai</td>\n",
       "      <td>Employee_Pic/2822.jpeg</td>\n",
       "      <td>Audio_Files/employee_2822.mp3.mp3</td>\n",
       "    </tr>\n",
       "    <tr>\n",
       "      <th>1</th>\n",
       "      <td>2823</td>\n",
       "      <td>Kiara</td>\n",
       "      <td>Advani</td>\n",
       "      <td>Employee_Pic/2823.jpeg</td>\n",
       "      <td>Audio_Files/employee_2823.mp3.mp3</td>\n",
       "    </tr>\n",
       "    <tr>\n",
       "      <th>2</th>\n",
       "      <td>2824</td>\n",
       "      <td>Akshay</td>\n",
       "      <td>Kumar</td>\n",
       "      <td>Employee_Pic/2824.jpeg</td>\n",
       "      <td>Audio_Files/employee_2824.mp3</td>\n",
       "    </tr>\n",
       "    <tr>\n",
       "      <th>3</th>\n",
       "      <td>2825</td>\n",
       "      <td>Bill</td>\n",
       "      <td>Gates</td>\n",
       "      <td>Employee_Pic/2825.jpeg</td>\n",
       "      <td>Audio_Files/employee_2825.mp3.mp3</td>\n",
       "    </tr>\n",
       "    <tr>\n",
       "      <th>4</th>\n",
       "      <td>2826</td>\n",
       "      <td>Elon</td>\n",
       "      <td>Musk</td>\n",
       "      <td>Employee_Pic/2826.jpeg</td>\n",
       "      <td>Audio_Files/employee_2826.mp3.mp3</td>\n",
       "    </tr>\n",
       "  </tbody>\n",
       "</table>\n",
       "</div>"
      ],
      "text/plain": [
       "   Employee_No     F_name  L_name          Photo_location  \\\n",
       "0         2822  Aishwarya     Rai  Employee_Pic/2822.jpeg   \n",
       "1         2823      Kiara  Advani  Employee_Pic/2823.jpeg   \n",
       "2         2824     Akshay   Kumar  Employee_Pic/2824.jpeg   \n",
       "3         2825       Bill   Gates  Employee_Pic/2825.jpeg   \n",
       "4         2826       Elon    Musk  Employee_Pic/2826.jpeg   \n",
       "\n",
       "                      Audio_location  \n",
       "0  Audio_Files/employee_2822.mp3.mp3  \n",
       "1  Audio_Files/employee_2823.mp3.mp3  \n",
       "2      Audio_Files/employee_2824.mp3  \n",
       "3  Audio_Files/employee_2825.mp3.mp3  \n",
       "4  Audio_Files/employee_2826.mp3.mp3  "
      ]
     },
     "execution_count": 2,
     "metadata": {},
     "output_type": "execute_result"
    }
   ],
   "source": [
    "# DATA LOAD MODULE-> data created manually in excel sheet.\n",
    "f=pd.read_excel(\"Employee_data1.xlsx\")\n",
    "f.head()"
   ]
  },
  {
   "cell_type": "code",
   "execution_count": 3,
   "metadata": {},
   "outputs": [],
   "source": [
    "# Convert all features into list. \n",
    "emp_no=f[\"Employee_No\"].tolist()\n",
    "f_nam=f[\"F_name\"].tolist()\n",
    "l_nam=f[\"L_name\"].tolist()\n",
    "photo_loc=f[\"Photo_location\"].tolist()\n",
    "audio_loc=f[\"Audio_location\"].tolist()\n",
    "n=len(emp_no)# Number of employees in a loading list.\n",
    "emp=[]\n",
    "emp_encod=[]\n",
    "audio=[]\n",
    "for i in range(n):\n",
    "    emp.append(face_recognition.load_image_file(photo_loc[i]))\n",
    "    emp_encod.append(face_recognition.face_encodings(emp[i])[0])\n",
    "#find encoding of each employee."
   ]
  },
  {
   "cell_type": "code",
   "execution_count": null,
   "metadata": {},
   "outputs": [],
   "source": [
    "# FACE CAPTURE MODULE->Capture the face of the employee using camera.\n",
    "camera=cv2.VideoCapture(0)\n",
    "for i in range(10):# capture ten images of the employee\n",
    "    return_value,image=camera.read()\n",
    "    print(return_value,image.shape)\n",
    "    cv2.imwrite(\"Employee\"+str(i)+\".png\",image)\n",
    "del camera    \n",
    "\n",
    "uk=face_recognition.load_image_file(\"Employee5.png\")\n"
   ]
  },
  {
   "cell_type": "code",
   "execution_count": null,
   "metadata": {},
   "outputs": [],
   "source": [
    "#FACE RECOGNITION MODULE->Recognize the face captured.\n",
    "\"\"\"Compare the capture image to the images available in the database.\n",
    "This python function return index of that employee which matches\n",
    "to the employee of the database.Otherwise,no matches return -1.\"\"\" \n",
    "def identify_employee(photo):\n",
    "    try:\n",
    "        uk_encode =face_recognition.face_encodings(photo)[0]\n",
    "    except IndexError as e: \n",
    "        print(e)\n",
    "        sys.exit(1)\n",
    "    found=face_recognition.compare_faces(emp_encod,uk_encode,tolerance=0.5)   \n",
    "    print(found)\n",
    "    \n",
    "    index=-1 \n",
    "    for i in range(n):\n",
    "        if found[i]:\n",
    "            index=i\n",
    "    return index\n",
    "emp_index=identify_employee(uk)\n",
    "print(emp_index)"
   ]
  },
  {
   "cell_type": "code",
   "execution_count": null,
   "metadata": {},
   "outputs": [],
   "source": [
    "#ATTENDANCE RECORD IN DATAFILE  NAME AS Attendance.txt\n",
    "if(emp_index!=-1):\n",
    "    x=str(datetime.datetime.now())\n",
    "    eno=str(emp_no[emp_index])\n",
    "    f=str(f_nam[emp_index])\n",
    "    l=str(l_nam[emp_index])\n",
    "    ar=\"\\n\"+eno+\" \"+f+\" \"+l+\" \"+x\n",
    "    file=open(\"Attendance.txt\",\"a\")\n",
    "    file.write(ar)\n",
    "    file.close()\n",
    "    print(ar)"
   ]
  },
  {
   "cell_type": "code",
   "execution_count": null,
   "metadata": {},
   "outputs": [],
   "source": [
    "#DISPLAY ATTENDANCE MODULE.\n",
    "pil_uk=Image.fromarray(uk)\n",
    "font=ImageFont.truetype(r\"C:\\Users\\dell user\\Desktop\\ALGER.TTF\",size=45)\n",
    "draw=ImageDraw.Draw(pil_uk)\n",
    "\n",
    "if emp_index==-1:\n",
    "    print(\"FACE NOT RECOGNISED\")\n",
    "else:\n",
    "    name= f_nam[emp_index]+\" \"+l_nam[emp_index]\n",
    "    \n",
    "    x=100\n",
    "    y=uk.shape[0]-400\n",
    "    draw.text((x,y),name,font=font,fill=(0,255,0))\n",
    "    plt.imshow(pil_uk)\n",
    "    plt.axis(\"off\")\n",
    "    plt.title(\"RECOGNIZE THE UNKNOWN/CAPTURE PERSON\")\n",
    "    print(name)"
   ]
  },
  {
   "cell_type": "code",
   "execution_count": null,
   "metadata": {},
   "outputs": [],
   "source": [
    "#ANNOUNCE ATTENDANCE RECORDED MODULE->\n",
    "\"\"\"If matches,then announce the name of recognised person.\n",
    "Otherwise, announce not recognised message.\"\"\"\n",
    "audioloc=audio_loc[emp_index]\n",
    "pygame.mixer.init()\n",
    "if emp_index==-1:\n",
    "    pygame.mixer.music.load(\"Audio_Files/failure.mp3.mp3\")\n",
    "    pygame.mixer.music.play()\n",
    "else:\n",
    "    pygame.mixer.music.load(audioloc)\n",
    "    pygame.mixer.music.play()                       \n",
    "    pygame.mixer.music.queue(\"Audio_Files/success.mp3\")\n",
    "    pygame.mixer.music.play()"
   ]
  },
  {
   "cell_type": "code",
   "execution_count": null,
   "metadata": {},
   "outputs": [],
   "source": [
    "\n"
   ]
  }
 ],
 "metadata": {
  "kernelspec": {
   "display_name": "Python 3",
   "language": "python",
   "name": "python3"
  },
  "language_info": {
   "codemirror_mode": {
    "name": "ipython",
    "version": 3
   },
   "file_extension": ".py",
   "mimetype": "text/x-python",
   "name": "python",
   "nbconvert_exporter": "python",
   "pygments_lexer": "ipython3",
   "version": "3.7.4"
  }
 },
 "nbformat": 4,
 "nbformat_minor": 4
}
